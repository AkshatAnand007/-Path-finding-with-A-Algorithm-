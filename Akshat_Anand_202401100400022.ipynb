{
  "nbformat": 4,
  "nbformat_minor": 0,
  "metadata": {
    "colab": {
      "provenance": []
    },
    "kernelspec": {
      "name": "python3",
      "display_name": "Python 3"
    },
    "language_info": {
      "name": "python"
    }
  },
  "cells": [
    {
      "cell_type": "code",
      "execution_count": 17,
      "metadata": {
        "id": "_zAZqxjTMQEq"
      },
      "outputs": [],
      "source": [
        "import numpy as np\n",
        "import matplotlib.pyplot as plt\n",
        "from queue import PriorityQueue\n",
        "\n"
      ]
    },
    {
      "cell_type": "code",
      "source": [
        "\n",
        "import numpy as np\n",
        "import matplotlib.pyplot as plt\n",
        "from queue import PriorityQueue\n",
        "\n",
        "\n"
      ],
      "metadata": {
        "id": "yKHj-qKiSCvY"
      },
      "execution_count": 18,
      "outputs": []
    },
    {
      "cell_type": "code",
      "source": [
        "def heuristic(node_a, node_b):\n",
        "    # Calculate the Manhattan distance between two nodes\n",
        "    return abs(node_a.position[0] - node_b.position[0]) + abs(node_a.position[1] - node_b.position[1])\n",
        "\n"
      ],
      "metadata": {
        "id": "0tsxrYszSCr0"
      },
      "execution_count": 19,
      "outputs": []
    },
    {
      "cell_type": "code",
      "source": [
        "def a_star_search(start, goal, grid):\n",
        "    open_list = PriorityQueue()  # Nodes to be evaluated\n",
        "    closed_list = []             # Nodes already evaluated\n",
        "\n",
        "    start_node = Node(start)      # Create start node\n",
        "    goal_node = Node(goal)        # Create goal node\n",
        "\n",
        "    open_list.put(start_node)     # Add start node to open list\n",
        "\n",
        "    while not open_list.empty():\n",
        "        current_node = open_list.get()  # Get node with lowest f\n",
        "        closed_list.append(current_node)  # Mark it as evaluated\n",
        "\n",
        "        if current_node == goal_node:  # Check if we reached the goal\n",
        "            path = []\n",
        "            while current_node:  # Trace back the path\n",
        "                path.append(current_node.position)\n",
        "                current_node = current_node.parent\n",
        "            return path[::-1]  # Return reversed path\n",
        "\n",
        "        # Get neighbors of the current node\n",
        "        neighbors = get_neighbors(current_node, grid)\n",
        "\n",
        "        for next_position in neighbors:\n",
        "            neighbor_node = Node(next_position, current_node)  # Create neighbor node\n",
        "\n",
        "            if neighbor_node in closed_list:\n",
        "                continue  # Skip if already evaluated\n",
        "\n",
        "            # Calculate costs for the neighbor\n",
        "            neighbor_node.g = current_node.g + 1\n",
        "            neighbor_node.h = heuristic(neighbor_node, goal_node)\n",
        "            neighbor_node.f = neighbor_node.g + neighbor_node.h\n",
        "\n",
        "            if add_to_open(open_list, neighbor_node):  # Check if it should be added to open list\n",
        "                open_list.put(neighbor_node)  # Add neighbor to open list\n",
        "\n",
        "    return []  # Return empty path if no path found\n",
        "\n"
      ],
      "metadata": {
        "id": "cpoT5BclSCpW"
      },
      "execution_count": 20,
      "outputs": []
    },
    {
      "cell_type": "code",
      "source": [
        "def get_neighbors(node, grid):\n",
        "    neighbors = []  # List to store valid neighbors\n",
        "    for new_position in [(0, -1), (0, 1), (-1, 0), (1, 0)]:  # Possible movements\n",
        "        node_position = (node.position[0] + new_position[0], node.position[1] + new_position[1])\n",
        "\n",
        "        # Check if the neighbor is within grid boundaries\n",
        "        if (node_position[0] > (len(grid) - 1) or\n",
        "            node_position[0] < 0 or\n",
        "            node_position[1] > (len(grid[len(grid)-1]) - 1) or\n",
        "            node_position[1] < 0):\n",
        "            continue\n",
        "\n",
        "        if grid[node_position[0]][node_position[1]] != 0:  # Check if walkable\n",
        "            continue\n",
        "\n",
        "        neighbors.append(node_position)  # Add valid neighbor\n",
        "\n",
        "    return neighbors\n"
      ],
      "metadata": {
        "id": "5VTg4QYNSCnH"
      },
      "execution_count": 21,
      "outputs": []
    },
    {
      "cell_type": "code",
      "source": [
        "\n",
        "def add_to_open(open_list, neighbor_node):\n",
        "    # Check if the neighbor should be added to the open list\n",
        "    for item in open_list.queue:\n",
        "        if neighbor_node == item and neighbor_node.g > item.g:\n",
        "            return False  # If a better path exists, do not add\n",
        "    return True  # Otherwise, add to open list\n",
        "\n"
      ],
      "metadata": {
        "id": "9Xbga4VaSCkO"
      },
      "execution_count": 22,
      "outputs": []
    },
    {
      "cell_type": "markdown",
      "source": [],
      "metadata": {
        "id": "3s4SWk9IbMFC"
      }
    },
    {
      "cell_type": "code",
      "source": [
        "if __name__ == \"__main__\":\n",
        "    grid = np.array([[0, 0, 0, 0, 0],\n",
        "                     [0, 1, 1, 1, 0],\n",
        "                     [0, 0, 0, 0, 0],\n",
        "                     [0, 1, 0, 1, 0],\n",
        "                     [0, 0, 0, 0, 0]])\n",
        "\n",
        "    start = (0, 0)  # Starting position\n",
        "    goal = (4, 4)   # Goal position\n",
        "\n",
        "    path = a_star_search(start, goal, grid)  # Execute the A* search algorithm\n",
        "\n",
        "    print(\"Path found:\", path)  # Output the found path\n",
        "    visualize_grid(grid, path)  # Visualize the grid and path\n"
      ],
      "metadata": {
        "colab": {
          "base_uri": "https://localhost:8080/",
          "height": 469
        },
        "id": "5HWI_-ElWW2I",
        "outputId": "e2008110-6ad6-4175-9d21-032702e7f094"
      },
      "execution_count": 25,
      "outputs": [
        {
          "output_type": "stream",
          "name": "stdout",
          "text": [
            "Path found: [(0, 0), (1, 0), (2, 0), (2, 1), (2, 2), (2, 3), (2, 4), (3, 4), (4, 4)]\n"
          ]
        },
        {
          "output_type": "display_data",
          "data": {
            "text/plain": [
              "<Figure size 640x480 with 2 Axes>"
            ],
            "image/png": "[encoded data removed]"
          },
          "metadata": {}
        }
      ]
    }
  ]
}